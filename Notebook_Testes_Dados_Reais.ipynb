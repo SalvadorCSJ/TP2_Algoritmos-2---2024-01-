{
 "cells": [
  {
   "cell_type": "markdown",
   "id": "696d1de5-5afd-4b77-81d6-45564bafc25c",
   "metadata": {},
   "source": [
    "# Instruções de como realizar os testes\n",
    "*Execute todas as células abaixo até a seção \"Datasets reais\"*\n",
    "*Em seguida, escolha e execute uma das células dessa seção para inicializar o dataset correspondente*\n",
    "*Por fim basta executar todas as células da \"Seção de testes\"*"
   ]
  },
  {
   "cell_type": "markdown",
   "id": "0dc19271-f0f6-4d0a-88c8-0fcc92ab5da5",
   "metadata": {},
   "source": [
    "**Imports**"
   ]
  },
  {
   "cell_type": "code",
   "execution_count": 1,
   "id": "06582fd5-f688-4ad3-aa5e-d2227b14fc63",
   "metadata": {},
   "outputs": [],
   "source": [
    "import time\n",
    "from sklearn.metrics import silhouette_score, adjusted_rand_score\n",
    "import pandas as pd\n",
    "import numpy as np\n",
    "from sklearn.cluster import KMeans\n",
    "from sklearn.preprocessing import StandardScaler\n",
    "import matplotlib.pyplot as plt\n",
    "import pandas as pd"
   ]
  },
  {
   "cell_type": "markdown",
   "id": "2e7cc6fd-6f75-4962-a521-3017522c230a",
   "metadata": {},
   "source": [
    "**Distância**"
   ]
  },
  {
   "cell_type": "code",
   "execution_count": 2,
   "id": "4452865e-bff3-485f-8671-fa8e69d7fa58",
   "metadata": {},
   "outputs": [],
   "source": [
    "def dist_minkowski(ponto1, ponto2, p):\n",
    "    return np.sum(np.abs(ponto1 - ponto2) ** p) ** (1 / p)"
   ]
  },
  {
   "cell_type": "markdown",
   "id": "f7ec71cf-b2ba-4d90-a3bf-a1b327194f09",
   "metadata": {},
   "source": [
    "**Cálculo da Matriz de Distâncias**"
   ]
  },
  {
   "cell_type": "code",
   "execution_count": 3,
   "id": "167b8dba-b514-409a-bcbb-863cf90b1303",
   "metadata": {},
   "outputs": [],
   "source": [
    "def matrizDistancias(pontos, tamanho, p):\n",
    "    matriz = np.zeros((tamanho, tamanho))\n",
    "    tam = len(pontos)\n",
    "    for i in range(tam):\n",
    "        for j in range(tam):\n",
    "            distancia = dist_minkowski(pontos[i][1], pontos[j][1], p)\n",
    "            matriz[i, j] = distancia\n",
    "    return matriz"
   ]
  },
  {
   "cell_type": "markdown",
   "id": "b880f1a5-f78b-498c-ae70-71227ae898f9",
   "metadata": {},
   "source": [
    "**Rotulamento**"
   ]
  },
  {
   "cell_type": "code",
   "execution_count": 4,
   "id": "cb41689c-e58f-4fde-ba9e-611775767ee1",
   "metadata": {},
   "outputs": [],
   "source": [
    "def rotular_pontos(S, C, matriz):\n",
    "    labels = []\n",
    "    tamanho = len(S)\n",
    "    for indiceLinha in range(tamanho):\n",
    "        distancias = []\n",
    "        for centro in C:\n",
    "            indiceColuna = centro[0]\n",
    "            distancias.append(matriz[indiceLinha][indiceColuna])\n",
    "        labels.append(np.argmin(distancias))\n",
    "    return np.array(labels)"
   ]
  },
  {
   "cell_type": "markdown",
   "id": "1abf9bb4-4015-40d9-a220-2fbeb0725540",
   "metadata": {},
   "source": [
    "**K-Centros, Primeira Abordagem**"
   ]
  },
  {
   "cell_type": "code",
   "execution_count": 5,
   "id": "41eceb0b-28b7-457e-b973-7e529ecb9618",
   "metadata": {},
   "outputs": [],
   "source": [
    "def removerPtos2r(S2, s, r, matriz):\n",
    "    dist2r = 2 * r\n",
    "    Slista = S2.tolist()\n",
    "    Snumpy = S2\n",
    "    for i in range(len(Slista)):\n",
    "        Slista[i] = list(Slista[i])\n",
    "    indiceLinha = s[0]\n",
    "    for outro in Snumpy:\n",
    "        indiceColuna = outro[0]\n",
    "        distaux = matriz[indiceLinha][indiceColuna]\n",
    "        if distaux <= dist2r:\n",
    "            outroLista = list(outro)\n",
    "            Slista.remove(outroLista)\n",
    "    S4 = np.array(Slista, dtype=object)\n",
    "    return S4"
   ]
  },
  {
   "cell_type": "code",
   "execution_count": 6,
   "id": "30c32a5a-e6d8-4b02-9af4-64059e2322c7",
   "metadata": {},
   "outputs": [],
   "source": [
    "def kCentrosComplicado(S, k, matriz, r):\n",
    "    S2 = S\n",
    "    C = []\n",
    "    tamanhoS2 = len(S2)\n",
    "    while tamanhoS2 != 0:\n",
    "        s = S2[0]\n",
    "        C.append(s)\n",
    "        S2 = removerPtos2r(S2, s, r, matriz)\n",
    "        tamanhoS2 = len(S2)\n",
    "        tamanhoC = len(C)\n",
    "    if tamanhoC <= k:\n",
    "        return (C, True)\n",
    "    else:\n",
    "        return (False, False)"
   ]
  },
  {
   "cell_type": "code",
   "execution_count": 7,
   "id": "d6fe88a0-7482-41c3-8e2d-f4db823b1bdb",
   "metadata": {},
   "outputs": [],
   "source": [
    "def descobrirraiomax(matriz):\n",
    "    maxDist = np.max(matriz)\n",
    "    return maxDist"
   ]
  },
  {
   "cell_type": "code",
   "execution_count": 8,
   "id": "c23044e5-5b99-46e6-b119-6edfb1777588",
   "metadata": {},
   "outputs": [],
   "source": [
    "def descobrirRaio(S, k, matriz, porcentagem):\n",
    "    rmax = descobrirraiomax(matriz)\n",
    "    low, high = 0, rmax\n",
    "    convergencia = high - low\n",
    "    while convergencia > (rmax * porcentagem / 100):\n",
    "        meio = (low + high) / 2\n",
    "        resultado = kCentrosComplicado(S, k, matriz, meio)\n",
    "        if resultado[1] is True:\n",
    "            high = meio\n",
    "        else:\n",
    "            low = meio\n",
    "        convergencia = high - low\n",
    "    resultado2 = resultado[0]\n",
    "    if resultado2 is False:\n",
    "        return 'Sem solução'\n",
    "    else:\n",
    "        resultado3 = [item[1] for item in resultado2]\n",
    "        return (resultado2, high, resultado3)"
   ]
  },
  {
   "cell_type": "markdown",
   "id": "caeab6d4-fae2-47bc-8962-921d98bbd70b",
   "metadata": {},
   "source": [
    "**K-Centros, Segunda abordagem**"
   ]
  },
  {
   "cell_type": "code",
   "execution_count": 9,
   "id": "9b6725c5-c2f9-40e7-a6f0-380650a70cf1",
   "metadata": {},
   "outputs": [],
   "source": [
    "def maxDist(S, C, matriz):\n",
    "    sMax = []\n",
    "    distMax = 0\n",
    "    menores = []\n",
    "    tamanho = len(S)\n",
    "    for s in range(tamanho):\n",
    "        distancias = [matriz[s][c[0]] for c in C]\n",
    "        indice = np.argmin(distancias)\n",
    "        elemento = distancias[indice]\n",
    "        menores.append(elemento) #pra cada ponto, vejo a menor distância entre s e qualquer ponto de C\n",
    "    indiceMax = np.argmax(menores)\n",
    "    distMax = menores[indiceMax]\n",
    "    sMax = S[indiceMax]\n",
    "    return sMax, distMax"
   ]
  },
  {
   "cell_type": "code",
   "execution_count": 10,
   "id": "7a4abeed-fef0-4376-b431-9660110b725b",
   "metadata": {},
   "outputs": [],
   "source": [
    "def kCentrosSimples(S, k, matriz):\n",
    "    tamanhoS = len(S)\n",
    "    C = []\n",
    "    if k >= tamanhoS:\n",
    "        return S\n",
    "    sArbitrario = S[0]\n",
    "    C.append(sArbitrario)\n",
    "    tamanhoC = len(C)\n",
    "    raio = 0\n",
    "    while tamanhoC < k:\n",
    "        s, raioaux = maxDist(S, C, matriz)\n",
    "        C.append(s)\n",
    "        tamanhoC = len(C)\n",
    "        if raioaux > raio:\n",
    "            raio = raioaux\n",
    "    centros = [item[1] for item in C]\n",
    "    return (C, raio, centros)"
   ]
  },
  {
   "cell_type": "markdown",
   "id": "221d73ec-17be-4922-978a-a35e4a2e608a",
   "metadata": {},
   "source": [
    "**K-Means**"
   ]
  },
  {
   "cell_type": "code",
   "execution_count": 20,
   "id": "eea02794-53d8-4a79-b0e2-4991ec87446f",
   "metadata": {},
   "outputs": [],
   "source": [
    "def myKMeans(df, k, rotulos_reais):\n",
    "    # Normalizar os dados\n",
    "    scaler = StandardScaler()\n",
    "    df_scaled = scaler.fit_transform(df)\n",
    "    kmeans = KMeans(n_clusters=k, random_state=0, n_init=10)\n",
    "    kmeans.fit(df_scaled)\n",
    "    # Prever os clusters\n",
    "    labels = kmeans.predict(df_scaled)\n",
    "    # Centroides dos clusters\n",
    "    centros = kmeans.cluster_centers_\n",
    "    silhueta = silhouette_score(pontos1, labels)\n",
    "    true_labels = rotulos_reais\n",
    "    rand_ajustado = adjusted_rand_score(true_labels, labels)\n",
    "    return (labels, centros, silhueta, rand_ajustado)"
   ]
  },
  {
   "cell_type": "markdown",
   "id": "4f3c7e1e-8549-439a-8762-c6c86b3a34b5",
   "metadata": {},
   "source": [
    "# Dataset reais\n",
    "*Escolha e execute uma das células seguintes para inicializar o dataset correspondente*\n"
   ]
  },
  {
   "cell_type": "markdown",
   "id": "766e4579-6dff-4ff7-9fb7-b9298dd52550",
   "metadata": {},
   "source": [
    "**Dataset 1**"
   ]
  },
  {
   "cell_type": "code",
   "execution_count": null,
   "id": "12262de3-3def-4e30-b922-74cbd617adfe",
   "metadata": {},
   "outputs": [],
   "source": [
    "# URL do dataset Adult no UCI Machine Learning Repository\n",
    "url_adult = \"https://archive.ics.uci.edu/ml/machine-learning-databases/adult/adult.data\"\n",
    "column_names_adult = [\n",
    "    'age', 'workclass', 'fnlwgt', 'education', 'education_num', 'marital_status',\n",
    "    'occupation', 'relationship', 'race', 'sex', 'capital_gain', 'capital_loss',\n",
    "    'hours_per_week', 'native_country', 'income'\n",
    "]\n",
    "adult = pd.read_csv(url_adult, names=column_names_adult, na_values=' ?', skipinitialspace=True)\n",
    "# Remover a coluna de classes e quaisquer colunas não numéricas\n",
    "df_adult = adult.select_dtypes(include=['int64', 'float64'])\n",
    "nclusters = adult['income'].nunique()\n",
    "\n",
    "pontos1 = df_adult.head(700).values\n",
    "rotulos_reais = adult['income'].head(700) #última coluna do dataframe"
   ]
  },
  {
   "cell_type": "markdown",
   "id": "f8d76c29-93d4-4f52-8353-81402ad26111",
   "metadata": {},
   "source": [
    "**Dataset 2**"
   ]
  },
  {
   "cell_type": "code",
   "execution_count": null,
   "id": "38e8972b-6442-431b-9abf-4e0c9541d72a",
   "metadata": {},
   "outputs": [],
   "source": [
    "# URL do dataset Wine Quality (Vinho Tinto) no UCI Machine Learning Repository\n",
    "url_wine_red = \"https://archive.ics.uci.edu/ml/machine-learning-databases/wine-quality/winequality-red.csv\"\n",
    "column_names_wine_red = [\n",
    "    'fixed acidity', 'volatile acidity', 'citric acid', 'residual sugar', 'chlorides',\n",
    "    'free sulfur dioxide', 'total sulfur dioxide', 'density', 'pH', 'sulphates',\n",
    "    'alcohol', 'quality'\n",
    "]\n",
    "\n",
    "# Carregar o dataset\n",
    "wine_red = pd.read_csv(url_wine_red, names=column_names_wine_red, sep=';', header=0)\n",
    "\n",
    "# Remover a coluna de classes e quaisquer colunas não numéricas\n",
    "df_wine_red = wine_red.select_dtypes(include=['int64', 'float64'])\n",
    "nclusters = wine_red['quality'].nunique()\n",
    "\n",
    "pontos1 = df_wine_red.head(700).values\n",
    "rotulos_reais = wine_red['quality'].head(700) #última coluna do dataframe"
   ]
  },
  {
   "cell_type": "markdown",
   "id": "aaa252f3-3719-4c37-8f99-96543ba2ca6a",
   "metadata": {},
   "source": [
    "**Dataset 3**"
   ]
  },
  {
   "cell_type": "code",
   "execution_count": null,
   "id": "a77d771e-579f-44a0-bdc9-37b635925d98",
   "metadata": {},
   "outputs": [],
   "source": [
    "# URL do dataset Wine Quality (Vinho Branco) no UCI Machine Learning Repository\n",
    "url_wine_white = \"https://archive.ics.uci.edu/ml/machine-learning-databases/wine-quality/winequality-white.csv\"\n",
    "column_names_wine_white = [\n",
    "    'fixed acidity', 'volatile acidity', 'citric acid', 'residual sugar', 'chlorides',\n",
    "    'free sulfur dioxide', 'total sulfur dioxide', 'density', 'pH', 'sulphates',\n",
    "    'alcohol', 'quality'\n",
    "]\n",
    "\n",
    "# Carregar o dataset\n",
    "wine_white = pd.read_csv(url_wine_white, names=column_names_wine_white, sep=';', header=0)\n",
    "\n",
    "# Remover a coluna de classes e quaisquer colunas não numéricas\n",
    "df_wine_white = wine_white.select_dtypes(include=['int64', 'float64'])\n",
    "nclusters = wine_white['quality'].nunique()\n",
    "\n",
    "pontos1 = df_wine_white.head(700).values\n",
    "rotulos_reais = wine_white['quality'].head(700) #última coluna do dataframe"
   ]
  },
  {
   "cell_type": "markdown",
   "id": "439ef06a-8817-4e9d-98fc-18884c9657cd",
   "metadata": {},
   "source": [
    "**Dataset 4**"
   ]
  },
  {
   "cell_type": "code",
   "execution_count": null,
   "id": "60ac572a-0dd5-4627-b831-3d03c3e0aabd",
   "metadata": {},
   "outputs": [],
   "source": [
    "# URL do dataset Letter Recognition no UCI Machine Learning Repository\n",
    "url_letter = \"https://archive.ics.uci.edu/ml/machine-learning-databases/letter-recognition/letter-recognition.data\"\n",
    "column_names_letter = [\n",
    "    'letter', 'x-box', 'y-box', 'width', 'height', 'onpix', 'x-bar', 'y-bar', 'x2bar',\n",
    "    'y2bar', 'xybar', 'x2ybr', 'xy2br', 'x-ege', 'xegvy', 'y-ege', 'yegvx'\n",
    "]\n",
    "\n",
    "# Carregar o dataset\n",
    "letter = pd.read_csv(url_letter, names=column_names_letter, header=None)\n",
    "\n",
    "# Remover a coluna de classes e quaisquer colunas não numéricas\n",
    "df_letter = letter.select_dtypes(include=['int64', 'float64'])\n",
    "nclusters = letter['letter'].nunique()\n",
    "\n",
    "pontos1 = df_letter.head(700).values\n",
    "rotulos_reais = letter['letter'].head(700) #última coluna do dataframe"
   ]
  },
  {
   "cell_type": "markdown",
   "id": "1cb670e0-7141-482d-8177-cd39229bdcf3",
   "metadata": {},
   "source": [
    "**Dataset 5**"
   ]
  },
  {
   "cell_type": "code",
   "execution_count": null,
   "id": "c07532dc-b788-4665-ac70-eee929800aed",
   "metadata": {},
   "outputs": [],
   "source": [
    "# URL do dataset Poker Hand no UCI Machine Learning Repository\n",
    "url_poker = \"https://archive.ics.uci.edu/ml/machine-learning-databases/poker/poker-hand-training-true.data\"\n",
    "column_names_poker = [\n",
    "    'S1', 'C1', 'S2', 'C2', 'S3', 'C3', 'S4', 'C4', 'S5', 'C5', 'class'\n",
    "]\n",
    "\n",
    "# Carregar o dataset\n",
    "poker = pd.read_csv(url_poker, names=column_names_poker, header=None)\n",
    "\n",
    "# Remover a coluna de classes e quaisquer colunas não numéricas\n",
    "df_poker = poker.select_dtypes(include=['int64', 'float64'])\n",
    "nclusters = poker['class'].nunique()\n",
    "\n",
    "pontos1 = df_poker.head(700).values\n",
    "rotulos_reais = poker['class'].head(700) #última coluna do dataframe"
   ]
  },
  {
   "cell_type": "markdown",
   "id": "6a877eb9-7173-4b4f-b19c-948c5f8b1b8d",
   "metadata": {},
   "source": [
    "**Dataset 6**"
   ]
  },
  {
   "cell_type": "code",
   "execution_count": null,
   "id": "bbc6991e-baef-4a04-bd6a-3d1e3247d6b3",
   "metadata": {},
   "outputs": [],
   "source": [
    "# URL do dataset Contraceptive Method Choice no UCI Machine Learning Repository\n",
    "url_cmc = \"https://archive.ics.uci.edu/ml/machine-learning-databases/cmc/cmc.data\"\n",
    "column_names_cmc = [\n",
    "    'wife_age', 'wife_education', 'husband_education', 'num_children',\n",
    "    'wife_religion', 'wife_working', 'husband_occupation', 'standard_of_living',\n",
    "    'media_exposure', 'contraceptive_method'\n",
    "]\n",
    "\n",
    "# Carregar o dataset\n",
    "cmc = pd.read_csv(url_cmc, names=column_names_cmc, header=None)\n",
    "\n",
    "# Remover a coluna de classes e quaisquer colunas não numéricas\n",
    "df_cmc = cmc.select_dtypes(include=['int64', 'float64'])\n",
    "nclusters = cmc['contraceptive_method'].nunique()\n",
    "\n",
    "pontos1 = df_cmc.head(700).values\n",
    "rotulos_reais = cmc['contraceptive_method'].head(700) #última coluna do dataframe"
   ]
  },
  {
   "cell_type": "markdown",
   "id": "ea38650b-26b4-4d20-826e-3c6141ad0b19",
   "metadata": {},
   "source": [
    "**Dataset 7**"
   ]
  },
  {
   "cell_type": "code",
   "execution_count": null,
   "id": "1234bcc0-073b-41c4-a5e3-8a975243587b",
   "metadata": {},
   "outputs": [],
   "source": [
    "# URL do dataset Covertype no UCI Machine Learning Repository\n",
    "url_covertype = \"https://archive.ics.uci.edu/ml/machine-learning-databases/covtype/covtype.data.gz\"\n",
    "\n",
    "# Carregar o dataset\n",
    "column_names_covertype = [\n",
    "    'elevation', 'aspect', 'slope', 'horizontal_distance_to_hydrology',\n",
    "    'vertical_distance_to_hydrology', 'horizontal_distance_to_roadways',\n",
    "    'hillshade_9am', 'hillshade_noon', 'hillshade_3pm', 'horizontal_distance_to_fire_points',\n",
    "    'wilderness_area1', 'wilderness_area2', 'wilderness_area3', 'wilderness_area4',\n",
    "    'soil_type1', 'soil_type2', 'soil_type3', 'soil_type4', 'soil_type5', 'soil_type6',\n",
    "    'soil_type7', 'soil_type8', 'soil_type9', 'soil_type10', 'soil_type11', 'soil_type12',\n",
    "    'soil_type13', 'soil_type14', 'soil_type15', 'soil_type16', 'soil_type17', 'soil_type18',\n",
    "    'soil_type19', 'soil_type20', 'soil_type21', 'soil_type22', 'soil_type23', 'soil_type24',\n",
    "    'soil_type25', 'soil_type26', 'soil_type27', 'soil_type28', 'soil_type29', 'soil_type30',\n",
    "    'soil_type31', 'soil_type32', 'soil_type33', 'soil_type34', 'soil_type35', 'soil_type36',\n",
    "    'soil_type37', 'soil_type38', 'class'\n",
    "]\n",
    "covertype = pd.read_csv(url_covertype, names=column_names_covertype, header=None)\n",
    "# print(covertype.shape)\n",
    "# Remover a coluna de classes e quaisquer colunas não numéricas\n",
    "df_covertype = covertype.select_dtypes(include=['int64', 'float64'])\n",
    "nclusters = covertype['class'].nunique()\n",
    "\n",
    "pontos1 = df_covertype.head(700).values\n",
    "rotulos_reais = covertype['class'].head(700) #última coluna do dataframe"
   ]
  },
  {
   "cell_type": "markdown",
   "id": "fbbf196f-d120-4e3f-a2f7-f734ba49f1aa",
   "metadata": {},
   "source": [
    "**Dataset 8**"
   ]
  },
  {
   "cell_type": "code",
   "execution_count": null,
   "id": "e773d452-c070-49cc-b46d-a06539151135",
   "metadata": {},
   "outputs": [],
   "source": [
    "# URL do dataset Spambase no UCI Machine Learning Repository\n",
    "url_spambase = \"https://archive.ics.uci.edu/ml/machine-learning-databases/spambase/spambase.data\"\n",
    "\n",
    "# Carregar o dataset\n",
    "column_names_spambase = [\n",
    "    'word_freq_make', 'word_freq_address', 'word_freq_all', 'word_freq_3d',\n",
    "    'word_freq_our', 'word_freq_over', 'word_freq_remove', 'word_freq_internet',\n",
    "    'word_freq_order', 'word_freq_mail', 'word_freq_receive', 'word_freq_will',\n",
    "    'word_freq_people', 'word_freq_report', 'word_freq_addresses', 'word_freq_free',\n",
    "    'word_freq_business', 'word_freq_email', 'word_freq_you', 'word_freq_credit',\n",
    "    'word_freq_your', 'word_freq_font', 'word_freq_000', 'word_freq_money',\n",
    "    'word_freq_hp', 'word_freq_hpl', 'word_freq_george', 'word_freq_650',\n",
    "    'word_freq_lab', 'word_freq_labs', 'word_freq_telnet', 'word_freq_857',\n",
    "    'word_freq_data', 'word_freq_415', 'word_freq_85', 'word_freq_technology',\n",
    "    'word_freq_1999', 'word_freq_parts', 'word_freq_pm', 'word_freq_direct',\n",
    "    'word_freq_cs', 'word_freq_meeting', 'word_freq_original', 'word_freq_project',\n",
    "    'word_freq_re', 'word_freq_edu', 'word_freq_table', 'word_freq_conference',\n",
    "    'class'\n",
    "]\n",
    "spambase = pd.read_csv(url_spambase, names=column_names_spambase, header=None)\n",
    "\n",
    "# Remover a coluna de classes e quaisquer colunas não numéricas\n",
    "df_spambase = spambase.select_dtypes(include=['int64', 'float64'])\n",
    "nclusters = spambase['class'].nunique()\n",
    "pontos1 = df_spambase.head(700).values\n",
    "rotulos_reais = spambase['class'].head(700) #última coluna do dataframe"
   ]
  },
  {
   "cell_type": "markdown",
   "id": "f765edda-651d-4575-80e1-d5ae0ce3dfd0",
   "metadata": {},
   "source": [
    "**Dataset 9**"
   ]
  },
  {
   "cell_type": "code",
   "execution_count": 12,
   "id": "385cccf8-c896-4cd9-b1e6-eb75ab6ea8f1",
   "metadata": {},
   "outputs": [
    {
     "name": "stdout",
     "output_type": "stream",
     "text": [
      "(830, 6)\n"
     ]
    }
   ],
   "source": [
    "import pandas as pd\n",
    "\n",
    "# URL do dataset Mammographic Mass no UCI Machine Learning Repository\n",
    "url_mammographic_mass = \"https://archive.ics.uci.edu/ml/machine-learning-databases/mammographic-masses/mammographic_masses.data\"\n",
    "\n",
    "# Carregar o dataset\n",
    "column_names_mammographic_mass = [\n",
    "    'BI_RADS', 'Age', 'Shape', 'Margin', 'Density', 'Severity'\n",
    "]\n",
    "mammographic_mass = pd.read_csv(url_mammographic_mass, names=column_names_mammographic_mass, header=None, na_values='?')\n",
    "aux = mammographic_mass.dropna()\n",
    "mammographic_mass = aux\n",
    "# Remover a coluna de classes e quaisquer colunas não numéricas\n",
    "df_mammographic_mass = mammographic_mass.select_dtypes(include=['int64', 'float64'])\n",
    "nclusters = mammographic_mass['Severity'].nunique()\n",
    "\n",
    "# Verificar o número de instâncias\n",
    "# num_instancias_mammographic_mass = df_mammographic_mass.shape[0]\n",
    "# tamanho = num_instancias_mammographic_mass\n",
    "\n",
    "pontos1 = df_mammographic_mass.tail(700).values\n",
    "rotulos_reais = mammographic_mass['Severity'].tail(700) #última coluna do dataframe"
   ]
  },
  {
   "cell_type": "markdown",
   "id": "2f141713-3e93-418c-ad47-0e89a192af32",
   "metadata": {},
   "source": [
    "**Dataset 10**"
   ]
  },
  {
   "cell_type": "code",
   "execution_count": null,
   "id": "0a1136b5-2f5a-4366-abf2-8ebd89dfb364",
   "metadata": {},
   "outputs": [],
   "source": [
    "# URL do dataset German Credit no UCI Machine Learning Repository\n",
    "url_german_credit = \"https://archive.ics.uci.edu/ml/machine-learning-databases/statlog/german/german.data\"\n",
    "column_names_german_credit = [\n",
    "    'checking_account_status', 'duration', 'credit_history', 'purpose', 'credit_amount',\n",
    "    'savings_account/bonds', 'employment', 'installment_as_income_perc', 'personal_status',\n",
    "    'other_debtors', 'present_residence_since', 'property_magnitude', 'age', 'other_payment_plans',\n",
    "    'housing', 'number_of_credits', 'job', 'liable_others', 'telephone', 'foreign_worker', 'class'\n",
    "]\n",
    "german_credit = pd.read_csv(url_german_credit, names=column_names_german_credit, header=None, delim_whitespace=True, na_values='?')\n",
    "\n",
    "# Remover a coluna de classes e quaisquer colunas não numéricas\n",
    "df_german_credit = german_credit.select_dtypes(include=['int64', 'float64'])\n",
    "nclusters = german_credit['class'].nunique()\n",
    "\n",
    "pontos1 = df_german_credit.head(700).values\n",
    "rotulos_reais = german_credit['class'].head(700) #última coluna do dataframe"
   ]
  },
  {
   "cell_type": "markdown",
   "id": "430ffd74-d1ec-4f82-b7b5-53e7ba13e7f9",
   "metadata": {},
   "source": [
    "# Seção de testes\n",
    "*Para a realização de todos os testes, basta executar as células seguintes em sequência*"
   ]
  },
  {
   "cell_type": "code",
   "execution_count": 13,
   "id": "2c421b13-a354-4ac6-a0b0-587c90b30086",
   "metadata": {},
   "outputs": [],
   "source": [
    "tuplas = [(i, ponto) for i, ponto in enumerate(pontos1)]\n",
    "# p = 1\n",
    "k = nclusters\n",
    "# porcentagem = 1\n",
    "pontos = np.array(tuplas, dtype=object)\n",
    "tamanho = pontos1.shape[0]\n",
    "# matriz = matrizDistancias(pontos, tamanho, p)"
   ]
  },
  {
   "cell_type": "code",
   "execution_count": null,
   "id": "bee6609f-027c-4622-ba24-4517208eea90",
   "metadata": {},
   "outputs": [],
   "source": [
    "start = time.time()\n",
    "resposta = descobrirRaio(pontos, k, matriz, porcentagem)\n",
    "processing_time = time.time() - start\n",
    "if resposta == 'Não há Solução para esses parâmetros':\n",
    "    print(f'o tempo foi {processing_time}')\n",
    "    print(f'Não foi possível calcular os rótulos, o raio, os centros, o coeficente da Silhueta e o índice de Rand ajustado, pois {resposta}')\n",
    "else:\n",
    "    centros = resposta[0]\n",
    "    labels_pred = rotular_pontos(pontos, centros, matriz)\n",
    "    num_labels_unicos = len(np.unique(labels_pred))\n",
    "    if num_labels_unicos == 1:\n",
    "        print(f'o tempo foi {processing_time}')\n",
    "        print(f'Não foi possível calcular os rótulos, o raio, os centros, o coeficente da Silhueta e o índice de Rand ajustado, pois {resposta}')    \n",
    "    else:\n",
    "        silhueta = silhouette_score(pontos1, labels_pred)\n",
    "        true_labels = rotulos_reais\n",
    "        rand_ajustado = adjusted_rand_score(true_labels, labels_pred)\n",
    "       "
   ]
  },
  {
   "cell_type": "code",
   "execution_count": 15,
   "id": "6a36d491-f22d-4ca6-b8a0-e272550568fc",
   "metadata": {},
   "outputs": [],
   "source": [
    "resultados = pd.DataFrame(columns=['Raio da solução','Média de Tempos','Desvio padrão de Tempos','Silhueta','Índice de Rand ajustado'])\n",
    "tempos = np.zeros(30)\n",
    "porcentagens = [1,7,13,19,25]\n",
    "for p in range(1,3):\n",
    "    matriz = matrizDistancias(pontos, tamanho, p)\n",
    "    for s in range(5):\n",
    "        porcentagem = porcentagens[s]\n",
    "        for i in range(30):\n",
    "            start = time.time()\n",
    "            resposta = descobrirRaio(pontos, k, matriz, porcentagem)\n",
    "            processing_time = time.time() - start\n",
    "            tempos[i] = round(processing_time, 3)\n",
    "        if resposta == 'Sem solução':\n",
    "            nova_linha = pd.DataFrame([{'Raio da solução':'Sem solução','Média de Tempos':round(np.mean(tempos),3),\n",
    "                            'Desvio padrão de Tempos':round(np.std(tempos),3),'Silhueta':'Sem solução','Índice de Rand ajustado':'Sem solução'}])\n",
    "        else:\n",
    "            centros = resposta[0]\n",
    "            labels_pred = rotular_pontos(pontos, centros, matriz)\n",
    "            num_labels_unicos = len(np.unique(labels_pred))\n",
    "            if num_labels_unicos == 1:\n",
    "                 nova_linha = pd.DataFrame([{'Raio da solução':'Sem solução','Média de Tempos':round(np.mean(tempos),3),\n",
    "                            'Desvio padrão de Tempos':round(np.std(tempos),3),'Silhueta':'Sem solução','Índice de Rand ajustado':'Sem solução'}])\n",
    "            else:\n",
    "                silhueta = silhouette_score(pontos1, labels_pred)\n",
    "                true_labels = rotulos_reais\n",
    "                rand_ajustado = adjusted_rand_score(true_labels, labels_pred)\n",
    "                nova_linha = pd.DataFrame([{'Raio da solução':round(resposta[1],3),'Média de Tempos':round(np.mean(tempos),3),\n",
    "                            'Desvio padrão de Tempos':round(np.std(tempos),3),'Silhueta':round(silhueta,3),'Índice de Rand ajustado':round(rand_ajustado,3)}])\n",
    "        resultados = pd.concat([resultados,nova_linha],ignore_index=True)"
   ]
  },
  {
   "cell_type": "code",
   "execution_count": 16,
   "id": "537c22a5-a2e2-44e8-afb8-8ca52151b7a5",
   "metadata": {},
   "outputs": [
    {
     "data": {
      "image/png": "[encoded data removed]",
      "text/plain": [
       "<Figure size 640x480 with 1 Axes>"
      ]
     },
     "metadata": {},
     "output_type": "display_data"
    }
   ],
   "source": [
    "fig, ax = plt.subplots(1,1)\n",
    "ax.axis('tight')\n",
    "ax.axis('off')\n",
    "rotulos_iteracoes = ['p = 1 e porcent = 1%', 'p = 1 e porcent = 7%', 'p = 1 e porcent = 13%', 'p = 1 e porcent = 19%','p = 1 e porcent = 25%',\n",
    "                    'p = 2 e porcent = 1%','p = 2 e porcent = 7%','p = 2 e porcent = 13%','p = 2 e porcent = 19%','p = 2 e porcent = 25%']\n",
    "table = ax.table(cellText=resultados.values,\n",
    "                 colLabels=resultados.columns,\n",
    "                 rowLabels=rotulos_iteracoes,\n",
    "                 loc='center', cellLoc='center', edges='closed')\n",
    "table.scale(1, 1)\n",
    "plt.savefig('Tabela_1.png',bbox_inches='tight',dpi=300)"
   ]
  },
  {
   "cell_type": "code",
   "execution_count": 17,
   "id": "94b52998-cfcc-4a2a-83c1-dfe3762385b8",
   "metadata": {},
   "outputs": [],
   "source": [
    "resultados = pd.DataFrame(columns=['Raio da solução','Média de Tempos','Desvio padrão de Tempos','Silhueta','Índice de Rand ajustado'])\n",
    "tempos = np.zeros(30)\n",
    "for p in range(1,3):\n",
    "    matriz = matrizDistancias(pontos, tamanho, p)\n",
    "        \n",
    "    for i in range(30):\n",
    "        start = time.time()\n",
    "        resultado = kCentrosSimples(pontos, k, matriz)\n",
    "        processing_time = time.time() - start\n",
    "        tempos[i] = round(processing_time,3)\n",
    "        \n",
    "    centros = resultado[0]\n",
    "    labels_pred = rotular_pontos(pontos, centros, matriz)\n",
    "    silhueta = silhouette_score(pontos1, labels_pred)\n",
    "    true_labels = rotulos_reais\n",
    "    rand_ajustado = adjusted_rand_score(true_labels, labels_pred)\n",
    "    nova_linha = pd.DataFrame([{'Raio da solução':round(resultado[1],3),'Média de Tempos':round(np.mean(tempos),3),\n",
    "                            'Desvio padrão de Tempos':round(np.std(tempos),3),'Silhueta':round(silhueta,3),'Índice de Rand ajustado':round(rand_ajustado,3)}])\n",
    "    resultados = pd.concat([resultados,nova_linha],ignore_index=True)"
   ]
  },
  {
   "cell_type": "code",
   "execution_count": 18,
   "id": "6dd6f8fa-1f43-4c97-940e-06bbef45cf9e",
   "metadata": {},
   "outputs": [
    {
     "data": {
      "image/png": "[encoded data removed]",
      "text/plain": [
       "<Figure size 640x480 with 1 Axes>"
      ]
     },
     "metadata": {},
     "output_type": "display_data"
    }
   ],
   "source": [
    "fig, ax = plt.subplots(1,1)\n",
    "ax.axis('tight')\n",
    "ax.axis('off')\n",
    "rotulos_iteracoes = ['p = 1', 'p = 2']\n",
    "table = ax.table(cellText=resultados.values,\n",
    "                 colLabels=resultados.columns,\n",
    "                 rowLabels=rotulos_iteracoes,\n",
    "                 loc='center', cellLoc='center', edges='closed')\n",
    "table.scale(1, 1)\n",
    "plt.savefig('Tabela_2.png',bbox_inches='tight',dpi=300)"
   ]
  },
  {
   "cell_type": "code",
   "execution_count": 21,
   "id": "e024e94d-42a8-4341-81df-9533b010d07a",
   "metadata": {},
   "outputs": [],
   "source": [
    "resultados = pd.DataFrame(columns=['Média de Tempos','Desvio padrão de Tempos','Silhueta','Índice de Rand ajustado'])\n",
    "tempos = np.zeros(30)\n",
    "for i in range(30):\n",
    "    start = time.time()\n",
    "    resultado = myKMeans(pontos1, k, rotulos_reais)\n",
    "    processing_time = time.time() - start\n",
    "    tempos[i] = round(processing_time,3)\n",
    "\n",
    "nova_linha = pd.DataFrame([{'Média de Tempos':round(np.mean(tempos),3),\n",
    "                            'Desvio padrão de Tempos':round(np.std(tempos),3),'Silhueta':round(resultado[2],3),'Índice de Rand ajustado':round(resultado[3],3)}])\n",
    "resultados = pd.concat([resultados,nova_linha],ignore_index=True)"
   ]
  },
  {
   "cell_type": "code",
   "execution_count": 22,
   "id": "999267c1-afd0-4a77-9011-cc670dfd9f48",
   "metadata": {},
   "outputs": [
    {
     "data": {
      "image/png": "[encoded data removed]",
      "text/plain": [
       "<Figure size 640x480 with 1 Axes>"
      ]
     },
     "metadata": {},
     "output_type": "display_data"
    }
   ],
   "source": [
    "fig, ax = plt.subplots(1,1)\n",
    "ax.axis('tight')\n",
    "ax.axis('off')\n",
    "table = ax.table(cellText=resultados.values,\n",
    "                 colLabels=resultados.columns,\n",
    "                 loc='center', cellLoc='center', edges='closed')\n",
    "table.scale(1, 1)\n",
    "plt.savefig('Tabela_3.png',bbox_inches='tight',dpi=300)"
   ]
  },
  {
   "cell_type": "code",
   "execution_count": null,
   "id": "9151b251-4e05-46d8-b97c-d211382d3880",
   "metadata": {},
   "outputs": [],
   "source": []
  }
 ],
 "metadata": {
  "kernelspec": {
   "display_name": "Python 3 (ipykernel)",
   "language": "python",
   "name": "python3"
  },
  "language_info": {
   "codemirror_mode": {
    "name": "ipython",
    "version": 3
   },
   "file_extension": ".py",
   "mimetype": "text/x-python",
   "name": "python",
   "nbconvert_exporter": "python",
   "pygments_lexer": "ipython3",
   "version": "3.8.10"
  }
 },
 "nbformat": 4,
 "nbformat_minor": 5
}
