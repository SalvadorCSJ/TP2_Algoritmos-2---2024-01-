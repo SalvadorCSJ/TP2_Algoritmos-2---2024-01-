{
 "cells": [
  {
   "cell_type": "markdown",
   "id": "34a148fb-1132-49a9-9db3-222c6a08c4c2",
   "metadata": {},
   "source": [
    "# Instruções de como realizar os testes\n",
    "*Execute todas as células abaixo até a seção \"Gerar datasets sintéticos\"*\n",
    "*Em seguida, escolha e execute uma das células da próxima seção para gerar o dataset correspondente*\n",
    "*Por fim basta executar todas as células da \"Seção de testes\"*"
   ]
  },
  {
   "cell_type": "markdown",
   "id": "0dc19271-f0f6-4d0a-88c8-0fcc92ab5da5",
   "metadata": {},
   "source": [
    "**Imports**"
   ]
  },
  {
   "cell_type": "code",
   "execution_count": 24,
   "id": "06582fd5-f688-4ad3-aa5e-d2227b14fc63",
   "metadata": {},
   "outputs": [],
   "source": [
    "import time\n",
    "from sklearn.metrics import silhouette_score, adjusted_rand_score\n",
    "import pandas as pd\n",
    "import numpy as np\n",
    "from sklearn.cluster import KMeans\n",
    "from sklearn.preprocessing import StandardScaler\n",
    "import matplotlib.pyplot as plt\n",
    "import pandas as pd"
   ]
  },
  {
   "cell_type": "markdown",
   "id": "2e7cc6fd-6f75-4962-a521-3017522c230a",
   "metadata": {},
   "source": [
    "**Distância**"
   ]
  },
  {
   "cell_type": "code",
   "execution_count": 25,
   "id": "4452865e-bff3-485f-8671-fa8e69d7fa58",
   "metadata": {},
   "outputs": [],
   "source": [
    "def dist_minkowski(ponto1, ponto2, p):\n",
    "    return np.sum(np.abs(ponto1 - ponto2) ** p) ** (1 / p)"
   ]
  },
  {
   "cell_type": "markdown",
   "id": "f7ec71cf-b2ba-4d90-a3bf-a1b327194f09",
   "metadata": {},
   "source": [
    "**Cálculo da Matriz de Distâncias**"
   ]
  },
  {
   "cell_type": "code",
   "execution_count": 26,
   "id": "167b8dba-b514-409a-bcbb-863cf90b1303",
   "metadata": {},
   "outputs": [],
   "source": [
    "def matrizDistancias(pontos, tamanho, p):\n",
    "    matriz = np.zeros((tamanho, tamanho))\n",
    "    tam = len(pontos)\n",
    "    for i in range(tam):\n",
    "        for j in range(tam):\n",
    "            distancia = dist_minkowski(pontos[i][1], pontos[j][1], p)\n",
    "            matriz[i, j] = distancia\n",
    "    return matriz"
   ]
  },
  {
   "cell_type": "markdown",
   "id": "b880f1a5-f78b-498c-ae70-71227ae898f9",
   "metadata": {},
   "source": [
    "**Rotulamento**"
   ]
  },
  {
   "cell_type": "code",
   "execution_count": 7,
   "id": "cb41689c-e58f-4fde-ba9e-611775767ee1",
   "metadata": {},
   "outputs": [],
   "source": [
    "def rotular_pontos(S, C, matriz):\n",
    "    labels = []\n",
    "    tamanho = len(S)\n",
    "    for indiceLinha in range(tamanho):\n",
    "        distancias = []\n",
    "        for centro in C:\n",
    "            indiceColuna = centro[0]\n",
    "            distancias.append(matriz[indiceLinha][indiceColuna])\n",
    "        labels.append(np.argmin(distancias))\n",
    "    return np.array(labels)"
   ]
  },
  {
   "cell_type": "markdown",
   "id": "1abf9bb4-4015-40d9-a220-2fbeb0725540",
   "metadata": {},
   "source": [
    "**K-Centros, Primeira Abordagem**"
   ]
  },
  {
   "cell_type": "code",
   "execution_count": 8,
   "id": "41eceb0b-28b7-457e-b973-7e529ecb9618",
   "metadata": {},
   "outputs": [],
   "source": [
    "def removerPtos2r(S2, s, r, matriz):\n",
    "    dist2r = 2 * r\n",
    "    Slista = S2.tolist()\n",
    "    Snumpy = S2\n",
    "    for i in range(len(Slista)):\n",
    "        Slista[i] = list(Slista[i])\n",
    "    indiceLinha = s[0]\n",
    "    for outro in Snumpy:\n",
    "        indiceColuna = outro[0]\n",
    "        distaux = matriz[indiceLinha][indiceColuna]\n",
    "        if distaux <= dist2r:\n",
    "            outroLista = list(outro)\n",
    "            Slista.remove(outroLista)\n",
    "    S4 = np.array(Slista, dtype=object)\n",
    "    return S4"
   ]
  },
  {
   "cell_type": "code",
   "execution_count": 9,
   "id": "30c32a5a-e6d8-4b02-9af4-64059e2322c7",
   "metadata": {},
   "outputs": [],
   "source": [
    "def kCentrosComplicado(S, k, matriz, r):\n",
    "    S2 = S\n",
    "    C = []\n",
    "    tamanhoS2 = len(S2)\n",
    "    while tamanhoS2 != 0:\n",
    "        s = S2[0]\n",
    "        C.append(s)\n",
    "        S2 = removerPtos2r(S2, s, r, matriz)\n",
    "        tamanhoS2 = len(S2)\n",
    "        tamanhoC = len(C)\n",
    "    if tamanhoC <= k:\n",
    "        return (C, True)\n",
    "    else:\n",
    "        return (False, False)"
   ]
  },
  {
   "cell_type": "code",
   "execution_count": 10,
   "id": "d6fe88a0-7482-41c3-8e2d-f4db823b1bdb",
   "metadata": {},
   "outputs": [],
   "source": [
    "def descobrirraiomax(matriz):\n",
    "    maxDist = np.max(matriz)\n",
    "    return maxDist"
   ]
  },
  {
   "cell_type": "code",
   "execution_count": 11,
   "id": "c23044e5-5b99-46e6-b119-6edfb1777588",
   "metadata": {},
   "outputs": [],
   "source": [
    "def descobrirRaio(S, k, matriz, porcentagem):\n",
    "    rmax = descobrirraiomax(matriz)\n",
    "    low, high = 0, rmax\n",
    "    convergencia = high - low\n",
    "    while convergencia > (rmax * porcentagem / 100):\n",
    "        meio = (low + high) / 2\n",
    "        resultado = kCentrosComplicado(S, k, matriz, meio)\n",
    "        if resultado[1] is True:\n",
    "            high = meio\n",
    "        else:\n",
    "            low = meio\n",
    "        convergencia = high - low\n",
    "    resultado2 = resultado[0]\n",
    "    if resultado2 is False:\n",
    "        return 'Sem solução'\n",
    "    else:\n",
    "        resultado3 = [item[1] for item in resultado2]\n",
    "        return (resultado2, high, resultado3)"
   ]
  },
  {
   "cell_type": "markdown",
   "id": "caeab6d4-fae2-47bc-8962-921d98bbd70b",
   "metadata": {},
   "source": [
    "**K-Centros, Segunda abordagem**"
   ]
  },
  {
   "cell_type": "code",
   "execution_count": 12,
   "id": "9b6725c5-c2f9-40e7-a6f0-380650a70cf1",
   "metadata": {},
   "outputs": [],
   "source": [
    "def maxDist(S, C, matriz):\n",
    "    sMax = []\n",
    "    distMax = 0\n",
    "    menores = []\n",
    "    tamanho = len(S)\n",
    "    for s in range(tamanho):\n",
    "        distancias = [matriz[s][c[0]] for c in C]\n",
    "        indice = np.argmin(distancias)\n",
    "        elemento = distancias[indice]\n",
    "        menores.append(elemento) #pra cada ponto, vejo a menor distância entre s e qualquer ponto de C\n",
    "    indiceMax = np.argmax(menores)\n",
    "    distMax = menores[indiceMax]\n",
    "    sMax = S[indiceMax]\n",
    "    return sMax, distMax"
   ]
  },
  {
   "cell_type": "code",
   "execution_count": 13,
   "id": "7a4abeed-fef0-4376-b431-9660110b725b",
   "metadata": {},
   "outputs": [],
   "source": [
    "def kCentrosSimples(S, k, matriz):\n",
    "    tamanhoS = len(S)\n",
    "    C = []\n",
    "    if k >= tamanhoS:\n",
    "        return S\n",
    "    sArbitrario = S[0]\n",
    "    C.append(sArbitrario)\n",
    "    tamanhoC = len(C)\n",
    "    raio = 0\n",
    "    while tamanhoC < k:\n",
    "        s, raioaux = maxDist(S, C, matriz)\n",
    "        C.append(s)\n",
    "        tamanhoC = len(C)\n",
    "        if raioaux > raio:\n",
    "            raio = raioaux\n",
    "    centros = [item[1] for item in C]\n",
    "    return (C, raio, centros)"
   ]
  },
  {
   "cell_type": "markdown",
   "id": "221d73ec-17be-4922-978a-a35e4a2e608a",
   "metadata": {},
   "source": [
    "**K-Means**"
   ]
  },
  {
   "cell_type": "code",
   "execution_count": 28,
   "id": "eea02794-53d8-4a79-b0e2-4991ec87446f",
   "metadata": {},
   "outputs": [],
   "source": [
    "def myKMeans(df, k, rotulos_reais):\n",
    "    # Normalizar os dados\n",
    "    scaler = StandardScaler()\n",
    "    df_scaled = scaler.fit_transform(df)\n",
    "    kmeans = KMeans(n_clusters=k, random_state=0, n_init=10)\n",
    "    kmeans.fit(df_scaled)\n",
    "    # Prever os clusters\n",
    "    labels = kmeans.predict(df_scaled)\n",
    "    # Centroides dos clusters\n",
    "    centros = kmeans.cluster_centers_\n",
    "    silhueta = silhouette_score(pontos1, labels)\n",
    "    true_labels = rotulos_reais\n",
    "    rand_ajustado = adjusted_rand_score(true_labels, labels)\n",
    "    return (labels, centros, silhueta, rand_ajustado)"
   ]
  },
  {
   "cell_type": "markdown",
   "id": "2f89f6d2-94ae-494b-81d3-a3b2eadfe256",
   "metadata": {},
   "source": [
    "**Função que gera datasets utilizando a distribuição normal multivariada**"
   ]
  },
  {
   "cell_type": "code",
   "execution_count": 15,
   "id": "50f7beb1-24e4-408d-95b6-5242be2b12bd",
   "metadata": {},
   "outputs": [],
   "source": [
    "def gerar_datasets_dist_multiv(n_samples_per_cluster, cov, centers):\n",
    "    points = []\n",
    "    labels = []\n",
    "    \n",
    "    for i, center in enumerate(centers):\n",
    "        cluster_points = np.random.multivariate_normal(center, cov, n_samples_per_cluster)\n",
    "        points.append(cluster_points)\n",
    "        cluster_labels = np.full(n_samples_per_cluster, i)\n",
    "        labels.append(cluster_labels)\n",
    "    \n",
    "    points = np.vstack(points) \n",
    "    labels = np.hstack(labels)\n",
    "\n",
    "    return points, labels"
   ]
  },
  {
   "cell_type": "markdown",
   "id": "bda29a8f-7397-4e32-a7cd-9f284369f807",
   "metadata": {},
   "source": [
    "# Gera datasets sintéticos\n",
    "*Escolha umas das células abaixo para gerar o dataset correspondente e execute-a; Em seguinta vá para a célula \"Seção de testes\"*"
   ]
  },
  {
   "cell_type": "markdown",
   "id": "4f3c7e1e-8549-439a-8762-c6c86b3a34b5",
   "metadata": {},
   "source": [
    "**Testes - Dataset 1**"
   ]
  },
  {
   "cell_type": "code",
   "execution_count": 16,
   "id": "27c61f7c-0cb3-424e-b6cb-944082ea84ab",
   "metadata": {},
   "outputs": [],
   "source": [
    "centers = [0,0],[3,4],[6,6]\n",
    "cov = [[1,0.5],[0.5,1]]\n",
    "pontos1, rotulos_reais = gerar_datasets_dist_multiv(234,cov,centers)\n",
    "aux = {x for x in rotulos_reais}\n",
    "nclusters=len(aux)"
   ]
  },
  {
   "cell_type": "markdown",
   "id": "7e8eac07-6b1c-40fa-a296-7bf723e86f90",
   "metadata": {},
   "source": [
    "**Testes - Dataset 2**"
   ]
  },
  {
   "cell_type": "code",
   "execution_count": 60,
   "id": "2663cd1b-f009-425e-954f-9c4ba9587cab",
   "metadata": {},
   "outputs": [
    {
     "name": "stdout",
     "output_type": "stream",
     "text": [
      "([0, 0], [3, 4], [6, 6])\n"
     ]
    }
   ],
   "source": [
    "centers = [0,0],[3,4],[6,6]\n",
    "cov = [[1,0.5],[0.5,1]]\n",
    "pontos1, rotulos_reais = gerar_datasets_dist_multiv(234,cov,centers)\n",
    "aux = {x for x in rotulos_reais}\n",
    "nclusters=len(aux)"
   ]
  },
  {
   "cell_type": "markdown",
   "id": "ec7c3820-2b30-42cb-b48b-79d7fb2520e4",
   "metadata": {},
   "source": [
    "**Testes - Dataset 3**"
   ]
  },
  {
   "cell_type": "code",
   "execution_count": 73,
   "id": "1ec00f5f-0b6b-4b71-99a5-04893d50fc3c",
   "metadata": {},
   "outputs": [
    {
     "name": "stdout",
     "output_type": "stream",
     "text": [
      "([0, 0], [5, 5], [0, 5], [5, 0])\n"
     ]
    }
   ],
   "source": [
    "centers = [0,0],[5,5],[0,5],[5,0]\n",
    "cov = [[1,0],[0,1]]\n",
    "pontos1, rotulos_reais = gerar_datasets_dist_multiv(234,cov,centers)\n",
    "aux = {x for x in rotulos_reais}\n",
    "nclusters=len(aux)"
   ]
  },
  {
   "cell_type": "markdown",
   "id": "be7bc23c-409f-4379-89af-dff5731e300a",
   "metadata": {},
   "source": [
    "**Testes - Dataset 4**"
   ]
  },
  {
   "cell_type": "code",
   "execution_count": 83,
   "id": "d3be4e5c-4210-44d0-835b-624c4d313f20",
   "metadata": {},
   "outputs": [
    {
     "name": "stdout",
     "output_type": "stream",
     "text": [
      "([0, 0], [5, 5], [0, 5], [5, 0])\n"
     ]
    }
   ],
   "source": [
    "centers = [0,0],[5,5],[0,5],[5,0]\n",
    "cov = [[1,0.9],[0.9,1]]\n",
    "pontos1, rotulos_reais = gerar_datasets_dist_multiv(234,cov,centers)\n",
    "aux = {x for x in rotulos_reais}\n",
    "nclusters=len(aux)"
   ]
  },
  {
   "cell_type": "markdown",
   "id": "0c720d1f-f403-4445-bcb5-f9adb2d82629",
   "metadata": {},
   "source": [
    "**Testes - Dataset 5**"
   ]
  },
  {
   "cell_type": "code",
   "execution_count": 99,
   "id": "1d88ac80-b347-499c-895b-f8ed1ac0919b",
   "metadata": {},
   "outputs": [
    {
     "name": "stdout",
     "output_type": "stream",
     "text": [
      "([0, 0], [4, 4]) 2\n"
     ]
    }
   ],
   "source": [
    "centers = [0,0],[4,4]\n",
    "cov = [[1,0.5],[0.5,1]]\n",
    "pontos1, rotulos_reais = gerar_datasets_dist_multiv(350,cov,centers)\n",
    "aux = {x for x in rotulos_reais}\n",
    "nclusters=len(aux)"
   ]
  },
  {
   "cell_type": "markdown",
   "id": "d1cbb6a0-a43e-46b9-b019-53dd13631d42",
   "metadata": {},
   "source": [
    "**Testes - Dataset 6**"
   ]
  },
  {
   "cell_type": "code",
   "execution_count": 108,
   "id": "2b03d314-9f88-4332-966a-dce7add29e22",
   "metadata": {},
   "outputs": [
    {
     "name": "stdout",
     "output_type": "stream",
     "text": [
      "([0, 0], [2, 2]) 2\n"
     ]
    }
   ],
   "source": [
    "centers = [0,0],[2,2]\n",
    "cov = [[1,0.5],[0.5,1]]\n",
    "pontos1, rotulos_reais = gerar_datasets_dist_multiv(350,cov,centers)\n",
    "aux = {x for x in rotulos_reais}\n",
    "nclusters=len(aux)"
   ]
  },
  {
   "cell_type": "markdown",
   "id": "9d12af81-7455-49f7-bdf4-cd3734344f0e",
   "metadata": {},
   "source": [
    "**Testes - Dataset 7**"
   ]
  },
  {
   "cell_type": "code",
   "execution_count": 125,
   "id": "68c448d2-ce83-4210-b24a-2093d471c516",
   "metadata": {},
   "outputs": [
    {
     "name": "stdout",
     "output_type": "stream",
     "text": [
      "([0, 0], [4, 0], [2, 3]) 3\n"
     ]
    }
   ],
   "source": [
    "centers = [0,0],[4,0],[2,3]\n",
    "cov = [[1,0.9],[0.9,1]]\n",
    "pontos1, rotulos_reais = gerar_datasets_dist_multiv(234,cov,centers)\n",
    "aux = {x for x in rotulos_reais}\n",
    "nclusters=len(aux)"
   ]
  },
  {
   "cell_type": "markdown",
   "id": "c76ff0e3-a6e5-48af-84c4-55d58df828ae",
   "metadata": {},
   "source": [
    "**Testes - Dataset 8**"
   ]
  },
  {
   "cell_type": "code",
   "execution_count": 135,
   "id": "3c53ca90-16de-4e06-a888-2398ef7dad0d",
   "metadata": {},
   "outputs": [
    {
     "name": "stdout",
     "output_type": "stream",
     "text": [
      "([0, 0], [4, 0], [2, 3]) 3\n"
     ]
    }
   ],
   "source": [
    "centers = [0,0],[4,0],[2,3]\n",
    "cov = [[1,0.1],[0.1,1]]\n",
    "pontos1, rotulos_reais = gerar_datasets_dist_multiv(234,cov,centers)\n",
    "aux = {x for x in rotulos_reais}\n",
    "nclusters=len(aux)"
   ]
  },
  {
   "cell_type": "markdown",
   "id": "8966393a-320e-4e47-9ce1-c6363a1394ef",
   "metadata": {},
   "source": [
    "**Testes - Dataset 9**"
   ]
  },
  {
   "cell_type": "code",
   "execution_count": 145,
   "id": "51c1b962-3730-4b20-8de8-29015d596567",
   "metadata": {},
   "outputs": [
    {
     "name": "stdout",
     "output_type": "stream",
     "text": [
      "([0, 0], [10, 0]) 2\n"
     ]
    }
   ],
   "source": [
    "centers = [0,0],[10,0]\n",
    "cov = [[1,0.2],[0.2,1]]\n",
    "pontos1, rotulos_reais = gerar_datasets_dist_multiv(350,cov,centers)\n",
    "aux = {x for x in rotulos_reais}\n",
    "nclusters=len(aux)"
   ]
  },
  {
   "cell_type": "markdown",
   "id": "90761066-0215-4409-bbbc-03714ad76268",
   "metadata": {},
   "source": [
    "**Testes - Dataset 10**"
   ]
  },
  {
   "cell_type": "code",
   "execution_count": 161,
   "id": "7b762c16-419f-474c-9d9e-956d715e7e41",
   "metadata": {},
   "outputs": [
    {
     "name": "stdout",
     "output_type": "stream",
     "text": [
      "([0, 0], [4, 0]) 2\n"
     ]
    }
   ],
   "source": [
    "centers = [0,0],[4,0]\n",
    "cov = [[1,0.2],[0.2,1]]\n",
    "pontos1, rotulos_reais = gerar_datasets_dist_multiv(350,cov,centers)\n",
    "aux = {x for x in rotulos_reais}\n",
    "nclusters=len(aux)"
   ]
  },
  {
   "cell_type": "markdown",
   "id": "35a0f66a-10ba-4293-a508-7e1c2464a10f",
   "metadata": {},
   "source": [
    "# Seção de testes\n",
    "*Para a realização de todos os testes, basta executar as células seguintes em sequência*"
   ]
  },
  {
   "cell_type": "markdown",
   "id": "e30ad788-9de7-4b77-88cb-d4c87349ee43",
   "metadata": {},
   "source": [
    "**Testes do algoritmo K-Centro (1ª abordagem)**"
   ]
  },
  {
   "cell_type": "code",
   "execution_count": 17,
   "id": "60feb5dd-31bf-45e1-96ec-1bbf4ab59f3a",
   "metadata": {},
   "outputs": [],
   "source": [
    "tuplas = [(i, ponto) for i, ponto in enumerate(pontos1)]\n",
    "k = nclusters\n",
    "pontos = np.array(tuplas, dtype=object)\n",
    "tamanho = pontos1.shape[0]"
   ]
  },
  {
   "cell_type": "code",
   "execution_count": 18,
   "id": "6a36d491-f22d-4ca6-b8a0-e272550568fc",
   "metadata": {},
   "outputs": [],
   "source": [
    "resultados = pd.DataFrame(columns=['Raio da solução','Média de Tempos','Desvio padrão de Tempos','Silhueta','Índice de Rand ajustado'])\n",
    "tempos = np.zeros(30)\n",
    "porcentagens = [1,7,13,19,25]\n",
    "for p in range(1,3):\n",
    "    matriz = matrizDistancias(pontos, tamanho, p)\n",
    "    for s in range(5):\n",
    "        porcentagem = porcentagens[s]\n",
    "        for i in range(30):\n",
    "            start = time.time()\n",
    "            resposta = descobrirRaio(pontos, k, matriz, porcentagem)\n",
    "            processing_time = time.time() - start\n",
    "            tempos[i] = round(processing_time, 3)\n",
    "        if resposta == 'Sem solução':\n",
    "            nova_linha = pd.DataFrame([{'Raio da solução':'Sem solução','Média de Tempos':round(np.mean(tempos),3),\n",
    "                            'Desvio padrão de Tempos':round(np.std(tempos),3),'Silhueta':'Sem solução','Índice de Rand ajustado':'Sem solução'}])\n",
    "        else:\n",
    "            centros = resposta[0]\n",
    "            labels_pred = rotular_pontos(pontos, centros, matriz)\n",
    "            silhueta = silhouette_score(pontos1, labels_pred)\n",
    "            true_labels = rotulos_reais\n",
    "            rand_ajustado = adjusted_rand_score(true_labels, labels_pred)\n",
    "            nova_linha = pd.DataFrame([{'Raio da solução':round(resposta[1],3),'Média de Tempos':round(np.mean(tempos),3),\n",
    "                            'Desvio padrão de Tempos':round(np.std(tempos),3),'Silhueta':round(silhueta,3),'Índice de Rand ajustado':round(rand_ajustado,3)}])\n",
    "        resultados = pd.concat([resultados,nova_linha],ignore_index=True)"
   ]
  },
  {
   "cell_type": "code",
   "execution_count": 19,
   "id": "537c22a5-a2e2-44e8-afb8-8ca52151b7a5",
   "metadata": {},
   "outputs": [
    {
     "data": {
      "image/png": "[encoded data removed]",
      "text/plain": [
       "<Figure size 640x480 with 1 Axes>"
      ]
     },
     "metadata": {},
     "output_type": "display_data"
    }
   ],
   "source": [
    "fig, ax = plt.subplots(1,1)\n",
    "ax.axis('tight')\n",
    "ax.axis('off')\n",
    "rotulos_iteracoes = ['p = 1 e porcent = 1%', 'p = 1 e porcent = 7%', 'p = 1 e porcent = 13%', 'p = 1 e porcent = 19%','p = 1 e porcent = 25%',\n",
    "                    'p = 2 e porcent = 1%','p = 2 e porcent = 7%','p = 2 e porcent = 13%','p = 2 e porcent = 19%','p = 2 e porcent = 25%']\n",
    "table = ax.table(cellText=resultados.values,\n",
    "                 colLabels=resultados.columns,\n",
    "                 rowLabels=rotulos_iteracoes,\n",
    "                 loc='center', cellLoc='center', edges='closed')\n",
    "table.scale(1, 1)\n",
    "plt.savefig('Tabela_1.png',bbox_inches='tight',dpi=300)"
   ]
  },
  {
   "cell_type": "markdown",
   "id": "e7ed18a0-5979-4bb8-b9da-fb9643268025",
   "metadata": {},
   "source": [
    "**Testes do algoritmo K-Centros (2ª abordagem)**"
   ]
  },
  {
   "cell_type": "code",
   "execution_count": 20,
   "id": "94b52998-cfcc-4a2a-83c1-dfe3762385b8",
   "metadata": {},
   "outputs": [],
   "source": [
    "resultados = pd.DataFrame(columns=['Raio da solução','Média de Tempos','Desvio padrão de Tempos','Silhueta','Índice de Rand ajustado'])\n",
    "tempos = np.zeros(30)\n",
    "for p in range(1,3):\n",
    "    matriz = matrizDistancias(pontos, tamanho, p)\n",
    "        \n",
    "    for i in range(30):\n",
    "        start = time.time()\n",
    "        resultado = kCentrosSimples(pontos, k, matriz)\n",
    "        processing_time = time.time() - start\n",
    "        tempos[i] = round(processing_time,3)\n",
    "        \n",
    "    centros = resultado[0]\n",
    "    labels_pred = rotular_pontos(pontos, centros, matriz)\n",
    "    silhueta = silhouette_score(pontos1, labels_pred)\n",
    "    true_labels = rotulos_reais\n",
    "    rand_ajustado = adjusted_rand_score(true_labels, labels_pred)\n",
    "    nova_linha = pd.DataFrame([{'Raio da solução':round(resultado[1],3),'Média de Tempos':round(np.mean(tempos),3),\n",
    "                            'Desvio padrão de Tempos':round(np.std(tempos),3),'Silhueta':round(silhueta,3),'Índice de Rand ajustado':round(rand_ajustado,3)}])\n",
    "    resultados = pd.concat([resultados,nova_linha],ignore_index=True)"
   ]
  },
  {
   "cell_type": "code",
   "execution_count": 21,
   "id": "6dd6f8fa-1f43-4c97-940e-06bbef45cf9e",
   "metadata": {},
   "outputs": [
    {
     "data": {
      "image/png": "[encoded data removed]",
      "text/plain": [
       "<Figure size 640x480 with 1 Axes>"
      ]
     },
     "metadata": {},
     "output_type": "display_data"
    }
   ],
   "source": [
    "fig, ax = plt.subplots(1,1)\n",
    "ax.axis('tight')\n",
    "ax.axis('off')\n",
    "rotulos_iteracoes = ['p = 1', 'p = 2']\n",
    "table = ax.table(cellText=resultados.values,\n",
    "                 colLabels=resultados.columns,\n",
    "                 rowLabels=rotulos_iteracoes,\n",
    "                 loc='center', cellLoc='center', edges='closed')\n",
    "table.scale(1, 1)\n",
    "plt.savefig('Tabela_2.png',bbox_inches='tight',dpi=300)"
   ]
  },
  {
   "cell_type": "markdown",
   "id": "1aa0b2cf-99e5-4e27-8983-d4481115a44e",
   "metadata": {},
   "source": [
    "**Testes do algoritmo KMeans**"
   ]
  },
  {
   "cell_type": "code",
   "execution_count": 29,
   "id": "e024e94d-42a8-4341-81df-9533b010d07a",
   "metadata": {},
   "outputs": [],
   "source": [
    "resultados = pd.DataFrame(columns=['Média de Tempos','Desvio padrão de Tempos','Silhueta','Índice de Rand ajustado'])\n",
    "tempos = np.zeros(30)\n",
    "for i in range(30):\n",
    "    start = time.time()\n",
    "    resultado = myKMeans(pontos1, k, rotulos_reais)\n",
    "    processing_time = time.time() - start\n",
    "    tempos[i] = round(processing_time,3)\n",
    "\n",
    "nova_linha = pd.DataFrame([{'Média de Tempos':round(np.mean(tempos),3),\n",
    "                            'Desvio padrão de Tempos':round(np.std(tempos),3),'Silhueta':round(resultado[2],3),'Índice de Rand ajustado':round(resultado[3],3)}])\n",
    "resultados = pd.concat([resultados,nova_linha],ignore_index=True)"
   ]
  },
  {
   "cell_type": "code",
   "execution_count": 30,
   "id": "999267c1-afd0-4a77-9011-cc670dfd9f48",
   "metadata": {},
   "outputs": [
    {
     "data": {
      "image/png": "[encoded data removed]",
      "text/plain": [
       "<Figure size 640x480 with 1 Axes>"
      ]
     },
     "metadata": {},
     "output_type": "display_data"
    }
   ],
   "source": [
    "fig, ax = plt.subplots(1,1)\n",
    "ax.axis('tight')\n",
    "ax.axis('off')\n",
    "table = ax.table(cellText=resultados.values,\n",
    "                 colLabels=resultados.columns,\n",
    "                 loc='center', cellLoc='center', edges='closed')\n",
    "table.scale(1, 1)\n",
    "plt.savefig('Tabela_3.png',bbox_inches='tight',dpi=300)"
   ]
  }
 ],
 "metadata": {
  "kernelspec": {
   "display_name": "Python 3 (ipykernel)",
   "language": "python",
   "name": "python3"
  },
  "language_info": {
   "codemirror_mode": {
    "name": "ipython",
    "version": 3
   },
   "file_extension": ".py",
   "mimetype": "text/x-python",
   "name": "python",
   "nbconvert_exporter": "python",
   "pygments_lexer": "ipython3",
   "version": "3.8.10"
  }
 },
 "nbformat": 4,
 "nbformat_minor": 5
}
