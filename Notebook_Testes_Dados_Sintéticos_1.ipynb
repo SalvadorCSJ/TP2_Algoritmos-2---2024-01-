{
 "cells": [
  {
   "cell_type": "markdown",
   "id": "60ef3bf3-b728-4820-821b-ed37f33272b7",
   "metadata": {},
   "source": [
    "# Instruções de como realizar os testes\n",
    "*Execute todas as células abaixo até a seção \"Gerar datasets sintéticos\"*\n",
    "*Em seguida, escolha e execute uma das células da próxima seção para gerar o dataset correspondente*\n",
    "*Por fim basta executar todas as células da \"Seção de testes\"*"
   ]
  },
  {
   "cell_type": "markdown",
   "id": "0dc19271-f0f6-4d0a-88c8-0fcc92ab5da5",
   "metadata": {},
   "source": [
    "**Imports**"
   ]
  },
  {
   "cell_type": "code",
   "execution_count": 5,
   "id": "06582fd5-f688-4ad3-aa5e-d2227b14fc63",
   "metadata": {},
   "outputs": [],
   "source": [
    "import time\n",
    "from sklearn.metrics import silhouette_score, adjusted_rand_score\n",
    "import pandas as pd\n",
    "import numpy as np\n",
    "from sklearn.cluster import KMeans\n",
    "from sklearn.preprocessing import StandardScaler\n",
    "import matplotlib.pyplot as plt\n",
    "import pandas as pd"
   ]
  },
  {
   "cell_type": "markdown",
   "id": "2e7cc6fd-6f75-4962-a521-3017522c230a",
   "metadata": {},
   "source": [
    "**Distância**"
   ]
  },
  {
   "cell_type": "code",
   "execution_count": 6,
   "id": "4452865e-bff3-485f-8671-fa8e69d7fa58",
   "metadata": {},
   "outputs": [],
   "source": [
    "def dist_minkowski(ponto1, ponto2, p):\n",
    "    return np.sum(np.abs(ponto1 - ponto2) ** p) ** (1 / p)"
   ]
  },
  {
   "cell_type": "markdown",
   "id": "f7ec71cf-b2ba-4d90-a3bf-a1b327194f09",
   "metadata": {},
   "source": [
    "**Cálculo da Matriz de Distâncias**"
   ]
  },
  {
   "cell_type": "code",
   "execution_count": 7,
   "id": "167b8dba-b514-409a-bcbb-863cf90b1303",
   "metadata": {},
   "outputs": [],
   "source": [
    "def matrizDistancias(pontos, tamanho, p):\n",
    "    matriz = np.zeros((tamanho, tamanho))\n",
    "    tam = len(pontos)\n",
    "    for i in range(tam):\n",
    "        for j in range(tam):\n",
    "            distancia = dist_minkowski(pontos[i][1], pontos[j][1], p)\n",
    "            matriz[i, j] = distancia\n",
    "    return matriz"
   ]
  },
  {
   "cell_type": "markdown",
   "id": "b880f1a5-f78b-498c-ae70-71227ae898f9",
   "metadata": {},
   "source": [
    "**Rotulamento**"
   ]
  },
  {
   "cell_type": "code",
   "execution_count": 8,
   "id": "cb41689c-e58f-4fde-ba9e-611775767ee1",
   "metadata": {},
   "outputs": [],
   "source": [
    "def rotular_pontos(S, C, matriz):\n",
    "    labels = []\n",
    "    tamanho = len(S)\n",
    "    for indiceLinha in range(tamanho):\n",
    "        distancias = []\n",
    "        for centro in C:\n",
    "            indiceColuna = centro[0]\n",
    "            distancias.append(matriz[indiceLinha][indiceColuna])\n",
    "        labels.append(np.argmin(distancias))\n",
    "    return np.array(labels)"
   ]
  },
  {
   "cell_type": "markdown",
   "id": "1abf9bb4-4015-40d9-a220-2fbeb0725540",
   "metadata": {},
   "source": [
    "**K-Centros, Primeira Abordagem**"
   ]
  },
  {
   "cell_type": "code",
   "execution_count": 9,
   "id": "41eceb0b-28b7-457e-b973-7e529ecb9618",
   "metadata": {},
   "outputs": [],
   "source": [
    "def removerPtos2r(S2, s, r, matriz):\n",
    "    dist2r = 2 * r\n",
    "    Slista = S2.tolist()\n",
    "    Snumpy = S2\n",
    "    for i in range(len(Slista)):\n",
    "        Slista[i] = list(Slista[i])\n",
    "    indiceLinha = s[0]\n",
    "    for outro in Snumpy:\n",
    "        indiceColuna = outro[0]\n",
    "        distaux = matriz[indiceLinha][indiceColuna]\n",
    "        if distaux <= dist2r:\n",
    "            outroLista = list(outro)\n",
    "            Slista.remove(outroLista)\n",
    "    S4 = np.array(Slista, dtype=object)\n",
    "    return S4"
   ]
  },
  {
   "cell_type": "code",
   "execution_count": 10,
   "id": "30c32a5a-e6d8-4b02-9af4-64059e2322c7",
   "metadata": {},
   "outputs": [],
   "source": [
    "def kCentrosComplicado(S, k, matriz, r):\n",
    "    S2 = S\n",
    "    C = []\n",
    "    tamanhoS2 = len(S2)\n",
    "    while tamanhoS2 != 0:\n",
    "        s = S2[0]\n",
    "        C.append(s)\n",
    "        S2 = removerPtos2r(S2, s, r, matriz)\n",
    "        tamanhoS2 = len(S2)\n",
    "        tamanhoC = len(C)\n",
    "    if tamanhoC <= k:\n",
    "        return (C, True)\n",
    "    else:\n",
    "        return (False, False)"
   ]
  },
  {
   "cell_type": "code",
   "execution_count": 11,
   "id": "d6fe88a0-7482-41c3-8e2d-f4db823b1bdb",
   "metadata": {},
   "outputs": [],
   "source": [
    "def descobrirraiomax(matriz):\n",
    "    maxDist = np.max(matriz)\n",
    "    return maxDist"
   ]
  },
  {
   "cell_type": "code",
   "execution_count": 12,
   "id": "c23044e5-5b99-46e6-b119-6edfb1777588",
   "metadata": {},
   "outputs": [],
   "source": [
    "def descobrirRaio(S, k, matriz, porcentagem):\n",
    "    rmax = descobrirraiomax(matriz)\n",
    "    low, high = 0, rmax\n",
    "    convergencia = high - low\n",
    "    while convergencia > (rmax * porcentagem / 100):\n",
    "        meio = (low + high) / 2\n",
    "        resultado = kCentrosComplicado(S, k, matriz, meio)\n",
    "        if resultado[1] is True:\n",
    "            high = meio\n",
    "        else:\n",
    "            low = meio\n",
    "        convergencia = high - low\n",
    "    resultado2 = resultado[0]\n",
    "    if resultado2 is False:\n",
    "        return 'Sem solução'\n",
    "    else:\n",
    "        resultado3 = [item[1] for item in resultado2]\n",
    "        return (resultado2, high, resultado3)"
   ]
  },
  {
   "cell_type": "markdown",
   "id": "caeab6d4-fae2-47bc-8962-921d98bbd70b",
   "metadata": {},
   "source": [
    "**K-Centros, Segunda abordagem**"
   ]
  },
  {
   "cell_type": "code",
   "execution_count": 13,
   "id": "9b6725c5-c2f9-40e7-a6f0-380650a70cf1",
   "metadata": {},
   "outputs": [],
   "source": [
    "def maxDist(S, C, matriz):\n",
    "    sMax = []\n",
    "    distMax = 0\n",
    "    menores = []\n",
    "    tamanho = len(S)\n",
    "    for s in range(tamanho):\n",
    "        distancias = [matriz[s][c[0]] for c in C]\n",
    "        indice = np.argmin(distancias)\n",
    "        elemento = distancias[indice]\n",
    "        menores.append(elemento) #pra cada ponto, vejo a menor distância entre s e qualquer ponto de C\n",
    "    indiceMax = np.argmax(menores)\n",
    "    distMax = menores[indiceMax]\n",
    "    sMax = S[indiceMax]\n",
    "    return sMax, distMax"
   ]
  },
  {
   "cell_type": "code",
   "execution_count": 14,
   "id": "7a4abeed-fef0-4376-b431-9660110b725b",
   "metadata": {},
   "outputs": [],
   "source": [
    "def kCentrosSimples(S, k, matriz):\n",
    "    tamanhoS = len(S)\n",
    "    C = []\n",
    "    if k >= tamanhoS:\n",
    "        return S\n",
    "    sArbitrario = S[0]\n",
    "    C.append(sArbitrario)\n",
    "    tamanhoC = len(C)\n",
    "    raio = 0\n",
    "    while tamanhoC < k:\n",
    "        s, raioaux = maxDist(S, C, matriz)\n",
    "        C.append(s)\n",
    "        tamanhoC = len(C)\n",
    "        if raioaux > raio:\n",
    "            raio = raioaux\n",
    "    centros = [item[1] for item in C]\n",
    "    return (C, raio, centros)"
   ]
  },
  {
   "cell_type": "markdown",
   "id": "221d73ec-17be-4922-978a-a35e4a2e608a",
   "metadata": {},
   "source": [
    "**K-Means**"
   ]
  },
  {
   "cell_type": "code",
   "execution_count": 22,
   "id": "eea02794-53d8-4a79-b0e2-4991ec87446f",
   "metadata": {},
   "outputs": [],
   "source": [
    "def myKMeans(df, k, rotulos_reais):\n",
    "    # Normalizar os dados\n",
    "    scaler = StandardScaler()\n",
    "    df_scaled = scaler.fit_transform(df)\n",
    "    kmeans = KMeans(n_clusters=k, random_state=0,n_init=10)\n",
    "    kmeans.fit(df_scaled)\n",
    "    # Prever os clusters\n",
    "    labels = kmeans.predict(df_scaled)\n",
    "    # Centroides dos clusters\n",
    "    centros = kmeans.cluster_centers_\n",
    "    silhueta = silhouette_score(pontos1, labels)\n",
    "    true_labels = rotulos_reais\n",
    "    rand_ajustado = adjusted_rand_score(true_labels, labels)\n",
    "    return (labels, centros, silhueta, rand_ajustado)"
   ]
  },
  {
   "cell_type": "markdown",
   "id": "4f3c7e1e-8549-439a-8762-c6c86b3a34b5",
   "metadata": {},
   "source": [
    "# Gera datasets sintéticos\n",
    "*Execute a próxima célula e escolha umas das células seguintes para gerar o dataset correspondente e execute-a; Em seguinta vá para a célula \"Seção de testes\"*"
   ]
  },
  {
   "cell_type": "code",
   "execution_count": 16,
   "id": "27c61f7c-0cb3-424e-b6cb-944082ea84ab",
   "metadata": {},
   "outputs": [],
   "source": [
    "import time\n",
    "import warnings\n",
    "from itertools import cycle, islice\n",
    "\n",
    "import matplotlib.pyplot as plt\n",
    "import numpy as np\n",
    "\n",
    "from sklearn import cluster, datasets, mixture\n",
    "from sklearn.neighbors import kneighbors_graph\n",
    "from sklearn.preprocessing import StandardScaler\n",
    "\n",
    "# ============\n",
    "# Generate datasets. We choose the size big enough to see the scalability\n",
    "# of the algorithms, but not too big to avoid too long running times\n",
    "# ============\n",
    "n_samples = 700\n",
    "seed = 30\n",
    "noisy_circles_1 = datasets.make_circles(\n",
    "    n_samples=n_samples, factor=0.9, noise=0.05, random_state=seed\n",
    ") \n",
    "noisy_circles_2 = datasets.make_circles(\n",
    "    n_samples=n_samples, factor=0.6, noise=0.05, random_state=seed\n",
    ") \n",
    "\n",
    "\n",
    "noisy_moons = datasets.make_moons(n_samples=n_samples, noise=0.05, random_state=seed+10)\n",
    "\n",
    "blobs_1 = datasets.make_blobs(n_samples=n_samples, random_state=seed, centers=3)\n",
    "blobs_2 = datasets.make_blobs(n_samples=n_samples, random_state=seed, centers=6)\n",
    "blobs_3 = datasets.make_blobs(n_samples=n_samples, random_state=seed, centers=9)\n",
    "\n",
    "\n",
    "rng = np.random.RandomState(seed)\n",
    "no_structure = rng.rand(n_samples, 2), None\n",
    "\n",
    "# Anisotropicly distributed data\n",
    "random_state = 170\n",
    "X, y = datasets.make_blobs(n_samples=n_samples, random_state=random_state)\n",
    "transformation = [[0.6, -0.6], [-0.4, 0.8]]\n",
    "X_aniso = np.dot(X, transformation)\n",
    "aniso = (X_aniso, y)\n",
    "\n",
    "# blobs with varied variances\n",
    "varied = datasets.make_blobs(\n",
    "    n_samples=n_samples, cluster_std=[1.5, 2.5, 0.5], random_state=random_state\n",
    ")\n",
    "\n",
    "varied_2 = datasets.make_blobs(\n",
    "    n_samples=n_samples, cluster_std=[1, 5, 9, 13], random_state=random_state, centers=4\n",
    ")\n",
    "\n",
    "varied_3 = datasets.make_blobs(\n",
    "    n_samples=n_samples, cluster_std=[1, 5, 9, 13, 17, 21, 25, 29], random_state=random_state, centers=8\n",
    ")"
   ]
  },
  {
   "cell_type": "markdown",
   "id": "d43e3e0d-569f-4b9c-9ae6-044b778d863b",
   "metadata": {},
   "source": [
    "**Dataset 1**"
   ]
  },
  {
   "cell_type": "code",
   "execution_count": 17,
   "id": "5c41c07c-5a66-475f-803a-ff6cd9d4557a",
   "metadata": {},
   "outputs": [],
   "source": [
    "pontos1 = noisy_circles_1[0]\n",
    "rotulos_reais = noisy_circles_1[1]\n",
    "aux = {x for x in noisy_circles_1[1]}\n",
    "nclusters = len(aux)"
   ]
  },
  {
   "cell_type": "markdown",
   "id": "f457fe8f-8c92-476e-bae9-06748780c2a7",
   "metadata": {},
   "source": [
    "**Dataset 2**"
   ]
  },
  {
   "cell_type": "code",
   "execution_count": 46,
   "id": "27a0c9dd-9f85-44e9-b70d-4444eb125369",
   "metadata": {},
   "outputs": [],
   "source": [
    "pontos1 = noisy_circles_2[0]\n",
    "rotulos_reais = noisy_circles_2[1]\n",
    "aux = {x for x in noisy_circles_2[1]}\n",
    "nclusters = len(aux)"
   ]
  },
  {
   "cell_type": "markdown",
   "id": "6477aa23-cc50-40e7-83cd-e956616f9d18",
   "metadata": {},
   "source": [
    "**Dataset 3**"
   ]
  },
  {
   "cell_type": "code",
   "execution_count": 80,
   "id": "4a694fbd-a7ab-4acb-bfc3-1703794988de",
   "metadata": {},
   "outputs": [],
   "source": [
    "pontos1 = noisy_moons[0]\n",
    "rotulos_reais = noisy_moons[1]\n",
    "aux = {x for x in noisy_moons[1]}\n",
    "nclusters = len(aux)"
   ]
  },
  {
   "cell_type": "markdown",
   "id": "2c569ee5-1329-483a-8a8b-5db547b6acff",
   "metadata": {},
   "source": [
    "**Dataset 4**"
   ]
  },
  {
   "cell_type": "code",
   "execution_count": null,
   "id": "b044c624-b4d7-4e7d-a61d-5ba359c82acc",
   "metadata": {},
   "outputs": [],
   "source": [
    "pontos1 = blobs_1[0]\n",
    "rotulos_reais = blobs_1[1]\n",
    "aux = {x for x in blobs_1[1]}\n",
    "nclusters = len(aux)"
   ]
  },
  {
   "cell_type": "markdown",
   "id": "7df16367-6373-4cd1-b529-35905da2cfc4",
   "metadata": {},
   "source": [
    "**Dataset 5**"
   ]
  },
  {
   "cell_type": "code",
   "execution_count": null,
   "id": "40a6e8e8-7c68-47b0-b466-b05f5bce2a26",
   "metadata": {},
   "outputs": [],
   "source": [
    "pontos1 = blobs_2[0]\n",
    "rotulos_reais = blobs_2[1]\n",
    "aux = {x for x in blobs_2[1]}\n",
    "nclusters = len(aux)\n"
   ]
  },
  {
   "cell_type": "markdown",
   "id": "ab03bf9f-04d4-4203-92b5-26f22d0f16b1",
   "metadata": {},
   "source": [
    "**Dataset 6**"
   ]
  },
  {
   "cell_type": "code",
   "execution_count": 111,
   "id": "b16da727-9042-40b7-819b-60512bec26e5",
   "metadata": {},
   "outputs": [
    {
     "name": "stdout",
     "output_type": "stream",
     "text": [
      "9\n"
     ]
    }
   ],
   "source": [
    "pontos1 = blobs_3[0]\n",
    "rotulos_reais = blobs_3[1]\n",
    "aux = {x for x in blobs_3[1]}\n",
    "nclusters = len(aux)"
   ]
  },
  {
   "cell_type": "markdown",
   "id": "37e94ecc-5bd0-4a9b-b731-66ffca74731f",
   "metadata": {},
   "source": [
    "**Dataset 7**"
   ]
  },
  {
   "cell_type": "code",
   "execution_count": 120,
   "id": "ee1c27de-7779-4ac5-8d0b-59151fe35dd5",
   "metadata": {},
   "outputs": [
    {
     "name": "stdout",
     "output_type": "stream",
     "text": [
      "3\n"
     ]
    }
   ],
   "source": [
    "pontos1 = aniso[0]\n",
    "rotulos_reais = aniso[1]\n",
    "aux = {x for x in aniso[1]}\n",
    "nclusters = len(aux)\n"
   ]
  },
  {
   "cell_type": "markdown",
   "id": "75dd94a4-3375-4667-b326-029c89addea0",
   "metadata": {},
   "source": [
    "**Dataset 8**"
   ]
  },
  {
   "cell_type": "code",
   "execution_count": 137,
   "id": "5fc55278-74fe-4594-8199-3ede5ab0c68b",
   "metadata": {},
   "outputs": [
    {
     "name": "stdout",
     "output_type": "stream",
     "text": [
      "3\n"
     ]
    }
   ],
   "source": [
    "pontos1 = varied[0]\n",
    "rotulos_reais = varied[1]\n",
    "aux = {x for x in varied[1]}\n",
    "nclusters = len(aux)\n"
   ]
  },
  {
   "cell_type": "markdown",
   "id": "5054d876-8ba3-4067-a200-10d60dca9773",
   "metadata": {},
   "source": [
    "**Dataset 9**"
   ]
  },
  {
   "cell_type": "code",
   "execution_count": 149,
   "id": "6f13a3ca-86f2-405b-8074-308391013b9a",
   "metadata": {},
   "outputs": [
    {
     "name": "stdout",
     "output_type": "stream",
     "text": [
      "4\n"
     ]
    }
   ],
   "source": [
    "pontos1 = varied_2[0]\n",
    "rotulos_reais = varied_2[1]\n",
    "aux = {x for x in varied_2[1]}\n",
    "nclusters = len(aux)\n"
   ]
  },
  {
   "cell_type": "markdown",
   "id": "a046379f-92fe-4705-8ab3-3ccc4340a666",
   "metadata": {},
   "source": [
    "**Dataset 10**"
   ]
  },
  {
   "cell_type": "code",
   "execution_count": 159,
   "id": "eb4cfbe3-ffda-4cfd-97ac-153f5513152d",
   "metadata": {},
   "outputs": [
    {
     "name": "stdout",
     "output_type": "stream",
     "text": [
      "8\n"
     ]
    }
   ],
   "source": [
    "pontos1 = varied_3[0]\n",
    "rotulos_reais = varied_3[1]\n",
    "aux = {x for x in varied_3[1]}\n",
    "nclusters = len(aux)\n"
   ]
  },
  {
   "cell_type": "markdown",
   "id": "8e5d76bf-03d0-4ae8-a059-864477fb2424",
   "metadata": {},
   "source": [
    "# Seção de testes\n",
    "*Para a realização de todos os testes, basta executar as células seguintes em sequência*"
   ]
  },
  {
   "cell_type": "code",
   "execution_count": 18,
   "id": "2c421b13-a354-4ac6-a0b0-587c90b30086",
   "metadata": {},
   "outputs": [],
   "source": [
    "tuplas = [(i, ponto) for i, ponto in enumerate(pontos1)]\n",
    "# p = 1\n",
    "k = nclusters\n",
    "# porcentagem = 1\n",
    "pontos = np.array(tuplas, dtype=object)\n",
    "tamanho = pontos1.shape[0]\n",
    "# matriz = matrizDistancias(pontos, tamanho, p)"
   ]
  },
  {
   "cell_type": "code",
   "execution_count": 19,
   "id": "6a36d491-f22d-4ca6-b8a0-e272550568fc",
   "metadata": {},
   "outputs": [],
   "source": [
    "resultados = pd.DataFrame(columns=['Raio da solução','Média de Tempos','Desvio padrão de Tempos','Silhueta','Índice de Rand ajustado'])\n",
    "tempos = np.zeros(30)\n",
    "porcentagens = [1,7,13,19,25]\n",
    "for p in range(1,3):\n",
    "    matriz = matrizDistancias(pontos, tamanho, p)\n",
    "    for s in range(5):\n",
    "        porcentagem = porcentagens[s]\n",
    "        for i in range(30):\n",
    "            start = time.time()\n",
    "            resposta = descobrirRaio(pontos, k, matriz, porcentagem)\n",
    "            processing_time = time.time() - start\n",
    "            tempos[i] = round(processing_time, 3)\n",
    "        if resposta == 'Sem solução':\n",
    "            nova_linha = pd.DataFrame([{'Raio da solução':'Sem solução','Média de Tempos':round(np.mean(tempos),3),\n",
    "                            'Desvio padrão de Tempos':round(np.std(tempos),3),'Silhueta':'Sem solução','Índice de Rand ajustado':'Sem solução'}])\n",
    "        else:\n",
    "            centros = resposta[0]\n",
    "            labels_pred = rotular_pontos(pontos, centros, matriz)\n",
    "            silhueta = silhouette_score(pontos1, labels_pred)\n",
    "            true_labels = rotulos_reais\n",
    "            rand_ajustado = adjusted_rand_score(true_labels, labels_pred)\n",
    "            nova_linha = pd.DataFrame([{'Raio da solução':round(resposta[1],3),'Média de Tempos':round(np.mean(tempos),3),\n",
    "                            'Desvio padrão de Tempos':round(np.std(tempos),3),'Silhueta':round(silhueta,3),'Índice de Rand ajustado':round(rand_ajustado,3)}])\n",
    "        resultados = pd.concat([resultados,nova_linha],ignore_index=True)"
   ]
  },
  {
   "cell_type": "code",
   "execution_count": 20,
   "id": "537c22a5-a2e2-44e8-afb8-8ca52151b7a5",
   "metadata": {},
   "outputs": [
    {
     "data": {
      "image/png": "[encoded data removed]",
      "text/plain": [
       "<Figure size 640x480 with 1 Axes>"
      ]
     },
     "metadata": {},
     "output_type": "display_data"
    }
   ],
   "source": [
    "fig, ax = plt.subplots(1,1)\n",
    "ax.axis('tight')\n",
    "ax.axis('off')\n",
    "rotulos_iteracoes = ['p = 1 e porcent = 1%', 'p = 1 e porcent = 7%', 'p = 1 e porcent = 13%', 'p = 1 e porcent = 19%','p = 1 e porcent = 25%',\n",
    "                    'p = 2 e porcent = 1%','p = 2 e porcent = 7%','p = 2 e porcent = 13%','p = 2 e porcent = 19%','p = 2 e porcent = 25%']\n",
    "table = ax.table(cellText=resultados.values,\n",
    "                 colLabels=resultados.columns,\n",
    "                 rowLabels=rotulos_iteracoes,\n",
    "                 loc='center', cellLoc='center', edges='closed')\n",
    "table.scale(1, 1)\n",
    "plt.savefig('Tabela_1.png',bbox_inches='tight',dpi=300)"
   ]
  },
  {
   "cell_type": "code",
   "execution_count": 21,
   "id": "94b52998-cfcc-4a2a-83c1-dfe3762385b8",
   "metadata": {},
   "outputs": [],
   "source": [
    "resultados = pd.DataFrame(columns=['Raio da solução','Média de Tempos','Desvio padrão de Tempos','Silhueta','Índice de Rand ajustado'])\n",
    "tempos = np.zeros(30)\n",
    "for p in range(1,3):\n",
    "    matriz = matrizDistancias(pontos, tamanho, p)\n",
    "        \n",
    "    for i in range(30):\n",
    "        start = time.time()\n",
    "        resultado = kCentrosSimples(pontos, k, matriz)\n",
    "        processing_time = time.time() - start\n",
    "        tempos[i] = round(processing_time,3)\n",
    "        \n",
    "    centros = resultado[0]\n",
    "    labels_pred = rotular_pontos(pontos, centros, matriz)\n",
    "    silhueta = silhouette_score(pontos1, labels_pred)\n",
    "    true_labels = rotulos_reais\n",
    "    rand_ajustado = adjusted_rand_score(true_labels, labels_pred)\n",
    "    nova_linha = pd.DataFrame([{'Raio da solução':round(resultado[1],3),'Média de Tempos':round(np.mean(tempos),3),\n",
    "                            'Desvio padrão de Tempos':round(np.std(tempos),3),'Silhueta':round(silhueta,3),'Índice de Rand ajustado':round(rand_ajustado,3)}])\n",
    "    resultados = pd.concat([resultados,nova_linha],ignore_index=True)"
   ]
  },
  {
   "cell_type": "code",
   "execution_count": 164,
   "id": "6dd6f8fa-1f43-4c97-940e-06bbef45cf9e",
   "metadata": {},
   "outputs": [
    {
     "data": {
      "image/png": "[encoded data removed]",
      "text/plain": [
       "<Figure size 640x480 with 1 Axes>"
      ]
     },
     "metadata": {},
     "output_type": "display_data"
    }
   ],
   "source": [
    "fig, ax = plt.subplots(1,1)\n",
    "ax.axis('tight')\n",
    "ax.axis('off')\n",
    "rotulos_iteracoes = ['p = 1', 'p = 2']\n",
    "table = ax.table(cellText=resultados.values,\n",
    "                 colLabels=resultados.columns,\n",
    "                 rowLabels=rotulos_iteracoes,\n",
    "                 loc='center', cellLoc='center', edges='closed')\n",
    "table.scale(1, 1)\n",
    "plt.savefig('Tabela_2.png',bbox_inches='tight',dpi=300)"
   ]
  },
  {
   "cell_type": "code",
   "execution_count": 23,
   "id": "e024e94d-42a8-4341-81df-9533b010d07a",
   "metadata": {},
   "outputs": [],
   "source": [
    "resultados = pd.DataFrame(columns=['Média de Tempos','Desvio padrão de Tempos','Silhueta','Índice de Rand ajustado'])\n",
    "tempos = np.zeros(30)\n",
    "for i in range(30):\n",
    "    start = time.time()\n",
    "    resultado = myKMeans(pontos1, k, rotulos_reais)\n",
    "    processing_time = time.time() - start\n",
    "    tempos[i] = round(processing_time,3)\n",
    "\n",
    "nova_linha = pd.DataFrame([{'Média de Tempos':round(np.mean(tempos),3),\n",
    "                            'Desvio padrão de Tempos':round(np.std(tempos),3),'Silhueta':round(resultado[2],3),'Índice de Rand ajustado':round(resultado[3],3)}])\n",
    "resultados = pd.concat([resultados,nova_linha],ignore_index=True)"
   ]
  },
  {
   "cell_type": "code",
   "execution_count": 24,
   "id": "999267c1-afd0-4a77-9011-cc670dfd9f48",
   "metadata": {},
   "outputs": [
    {
     "data": {
      "image/png": "[encoded data removed]",
      "text/plain": [
       "<Figure size 640x480 with 1 Axes>"
      ]
     },
     "metadata": {},
     "output_type": "display_data"
    }
   ],
   "source": [
    "fig, ax = plt.subplots(1,1)\n",
    "ax.axis('tight')\n",
    "ax.axis('off')\n",
    "table = ax.table(cellText=resultados.values,\n",
    "                 colLabels=resultados.columns,\n",
    "                 loc='center', cellLoc='center', edges='closed')\n",
    "table.scale(1, 1)\n",
    "plt.savefig('Tabela_3.png',bbox_inches='tight',dpi=300)"
   ]
  }
 ],
 "metadata": {
  "kernelspec": {
   "display_name": "Python 3 (ipykernel)",
   "language": "python",
   "name": "python3"
  },
  "language_info": {
   "codemirror_mode": {
    "name": "ipython",
    "version": 3
   },
   "file_extension": ".py",
   "mimetype": "text/x-python",
   "name": "python",
   "nbconvert_exporter": "python",
   "pygments_lexer": "ipython3",
   "version": "3.8.10"
  }
 },
 "nbformat": 4,
 "nbformat_minor": 5
}
